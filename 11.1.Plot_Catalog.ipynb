{
 "cells": [
  {
   "cell_type": "code",
   "execution_count": 1,
   "id": "3c4113e4-c23c-47d5-92ad-fb3a9749e46d",
   "metadata": {},
   "outputs": [],
   "source": [
    "import numpy as np\n",
    "from stdb import load_db \n",
    "import matplotlib.pyplot as plt\n",
    "import pandas as pd\n",
    "import pickle\n",
    "import glob, os\n",
    "\n",
    "import warnings  \n",
    "from obspy.geodetics.base import gps2dist_azimuth\n",
    "from obspy.core.event.catalog import read_events\n",
    "warnings.filterwarnings(\"ignore\")  \n",
    "from  PlotCatalog_1 import plot_nonnull_average, plot_null_PCA09, plot_null_PCA_angle_small,plot_null_PCA_angle_large, plot_null_angle\n",
    "                \n"
   ]
  },
  {
   "cell_type": "code",
   "execution_count": 2,
   "id": "5e3e8737-032a-443b-a6a3-316adb18f5d2",
   "metadata": {},
   "outputs": [],
   "source": [
    "PKLpath = '/Volumes/home/Research/STEP/01_Split'\n",
    "Path = '/Volumes/home/Research/STEP/02_Station_result_csv'\n",
    "# MAG = 6\n",
    "\n",
    "SAVEpath = '/Volumes/home/Research/STEP/05_Station_result_statistics'\n",
    "YearRange= 'SKSvsSKKS'\n",
    "ver= 4"
   ]
  },
  {
   "cell_type": "code",
   "execution_count": 23,
   "id": "2187c1e8-1faf-4d79-8a57-c6d968a41d65",
   "metadata": {},
   "outputs": [],
   "source": [
    "iiii=0\n",
    "for STApath in glob.glob(f'{PKLpath}/*.pkl'):\n",
    "    STApkl = pickle.load(open(STApath, \"rb\"))\n",
    "    values = [value for keys, value in STApkl.items() ][0]\n",
    "    NET = values['network']; STA = values['station']\n",
    "    if STA == 'CMCY' or STA == 'DGRL' or NET == 'BI' :\n",
    "        pass\n",
    "    else:\n",
    "        newdf = pd.DataFrame()\n",
    "        for csvpath in glob.glob(f'{Path}/*classify_220913/{NET}*{STA}*result_v2.csv'):\n",
    "            phase = csvpath.rsplit('_')[4]\n",
    "            df = pd.read_csv(csvpath)\n",
    "            df = df[df['Pick']==True][df['Null']==False][df['Quality']=='Good']\n",
    "            iiii += len(df)"
   ]
  },
  {
   "cell_type": "code",
   "execution_count": 24,
   "id": "f690aeb2-43d9-4245-850f-69bb5a5710f2",
   "metadata": {},
   "outputs": [
    {
     "data": {
      "text/plain": [
       "51"
      ]
     },
     "execution_count": 24,
     "metadata": {},
     "output_type": "execute_result"
    }
   ],
   "source": [
    "iiii"
   ]
  },
  {
   "cell_type": "code",
   "execution_count": 27,
   "id": "2cd97c5a-23fc-4bd3-b1e8-1628bbe571bf",
   "metadata": {
    "tags": []
   },
   "outputs": [
    {
     "name": "stdout",
     "output_type": "stream",
     "text": [
      "AM.ALAV\n",
      "35\n",
      "32.2737601935 25.8364245462 1.11050769203 0.550837745822 41.2741448415 16.9891713878 1.18081896806 0.463716867639 32 3\n",
      "AM.ARZA\n",
      "48\n",
      "40.74 44.75 1.2 0.98 63.74 10.0 1.4 0.35 43 1\n",
      "AM.BAUR\n",
      "29\n",
      "57.2725192305 16.8958204891 1.04717948725 0.349046319753 58.6735293112 11.5930714462 0.880018718382 0.280262773522 21 6\n",
      "AM.BYUR\n",
      "31\n",
      "66.5120938885 31.6430284581 0.365664244985 0.692964645563 27.1473615317 12.6305680791 0.382906474376 0.383046994506 25 2\n",
      "AM.GERK\n",
      "32\n",
      "nan nan nan nan nan nan nan nan 30 0\n",
      "AM.KECH\n",
      "8\n",
      "nan nan nan nan nan nan nan nan 8 0\n",
      "AM.LICH\n",
      "26\n",
      "nan nan nan nan nan nan nan nan 25 0\n",
      "AM.MAGY\n",
      "32\n",
      "66.6087879421 24.308241915 0.947220183624 0.56189411814 68.7551787582 10.3274512829 0.729343228901 0.243823706805 30 2\n",
      "AM.NAVR\n",
      "19\n",
      "39.0 44.75 0.4 0.98 54.0 44.75 0.5 0.98 16 1\n",
      "AM.SHEN\n",
      "26\n",
      "43.71 44.75 1.2 0.98 27.71 44.75 1.3 0.98 21 1\n",
      "AM.TSAP\n",
      "14\n",
      "-32.5761221034 31.6430284581 0.109737472316 0.692964645563 -22.905679458 23.8910286509 0.195173199271 0.517034815075 10 2\n",
      "AM.VAND\n",
      "22\n",
      "43.2609484891 19.7858653778 0.880345480014 0.435975916766 44.5615151876 12.5738443803 0.769440272549 0.302871672495 16 4\n",
      "AM.ZARN\n",
      "49\n",
      "49.7750795087 13.7144321118 1.33425720038 0.310429809565 36.5831852235 4.79333706794 1.50958194926 0.183390563458 35 9\n",
      "GO.AKH\n",
      "68\n",
      "39.5399737295 7.8252339511 1.13629887537 0.169457602417 39.8159788042 3.22910251069 1.13610181958 0.0856025015976 35 23\n",
      "GO.BGD\n",
      "5\n",
      "nan nan nan nan nan nan nan nan 2 0\n",
      "GO.CHVG\n",
      "2\n",
      "nan nan nan nan nan nan nan nan 2 0\n",
      "GO.DGRG\n",
      "3\n",
      "nan nan nan nan nan nan nan nan 3 0\n",
      "GO.GUDG\n",
      "11\n",
      "nan nan nan nan nan nan nan nan 10 0\n",
      "GO.ONI\n",
      "54\n",
      "42.1213023527 10.2829951976 1.11443859175 0.227023883655 50.0622945514 4.9134849124 1.18712005913 0.130280646587 33 16\n",
      "GO.SEAG\n",
      "1\n",
      "nan nan nan nan nan nan nan nan 1 0\n",
      "GO.TBLG\n",
      "38\n",
      "46.1434398758 12.5224489775 1.00063409519 0.276401032676 36.9180776914 6.35370748189 1.07120617439 0.184745403725 26 9\n",
      "GO.TRLG\n",
      "20\n",
      "nan nan nan nan nan nan nan nan 17 0\n",
      "II.KIV\n",
      "132\n",
      "36.4317492891 12.24604528 0.779675235648 0.261178100154 35.584676921 8.56446145417 0.745294035479 0.194555904562 110 10\n",
      "IU.GNI\n",
      "125\n",
      "53.9875005228 8.30092316817 0.635618334605 0.182848111701 53.9486829723 7.38145966226 0.676394832233 0.172759538053 93 26\n",
      "TG.ABST\n",
      "25\n",
      "28.3574754178 25.8364245462 1.39571523403 0.541940956194 25.1552843865 15.7819341161 1.6486537743 0.362537354397 18 3\n",
      "TG.AMBR\n",
      "26\n",
      "39.5518550497 18.141458045 1.21848596063 0.378396617321 32.7098329411 11.1823521676 1.28698508423 0.328347377026 18 5\n",
      "TG.AZMN\n",
      "7\n",
      "38.3 44.75 1.4 0.98 44.3 12.5 1.4 0.3 5 1\n",
      "TG.BATM\n",
      "6\n",
      "27.0 44.75 2.2 0.98 42.0 8.5 2.5 0.5 4 1\n",
      "TG.BKRG\n",
      "10\n",
      "nan nan nan nan nan nan nan nan 9 0\n",
      "TG.BRNG\n",
      "4\n",
      "nan nan nan nan nan nan nan nan 3 0\n",
      "TG.BURN\n",
      "4\n",
      "nan nan nan nan nan nan nan nan 2 0\n",
      "TG.DDFL\n",
      "24\n",
      "54.5428949357 22.226423214 1.00541148883 0.514587213211 57.4151502533 16.7982307269 1.00926528691 0.461254328495 17 3\n",
      "TG.DMNI\n",
      "17\n",
      "45.1086140478 18.0536007489 0.975576821395 0.356320080826 43.0249652581 7.06328535456 1.1431097068 0.25125286068 9 5\n",
      "TG.GANZ\n",
      "4\n",
      "nan nan nan nan nan nan nan nan 4 0\n",
      "TG.GUDA\n",
      "4\n",
      "nan nan nan nan nan nan nan nan 4 0\n",
      "TG.KHVA\n",
      "2\n",
      "nan nan nan nan nan nan nan nan 2 0\n",
      "TG.KZRT\n",
      "19\n",
      "nan nan nan nan nan nan nan nan 16 0\n",
      "TG.LGD\n",
      "9\n",
      "nan nan nan nan nan nan nan nan 7 0\n",
      "TG.TKBL\n",
      "17\n",
      "50.9809441927 18.5718200508 0.954908142531 0.43826932359 55.0734845993 11.7745488236 0.878422633417 0.338236603578 12 5\n",
      "TG.TRLT\n",
      "27\n",
      "49.5270988612 23.7203762618 0.768687309508 0.512445119013 27.435656334 10.6080747546 1.09523000145 0.346554469023 25 2\n",
      "TG.URAV\n",
      "23\n",
      "39.0 44.75 0.8 0.98 43.0 15.75 0.8 0.25 21 1\n",
      "AB.GANJ\n",
      "6\n",
      "-45.2118122323 21.9320288366 0.744914761322 0.476480149989 -40.9281687377 17.128193133 0.727788511061 0.458899650129 3 3\n",
      "AB.QZX\n",
      "2\n",
      "77.23 44.75 0.7 0.98 66.23 44.75 0.7 0.98 1 1\n",
      "AB.ZKT\n",
      "1\n",
      "nan nan nan nan nan nan nan nan 1 0\n",
      "KO.TASB\n",
      "56\n",
      "73.9918780029 13.4405125104 0.588344850366 0.289405520949 73.1633084535 10.5226094027 0.531588713459 0.229099148303 46 9\n",
      "KO.BCA\n",
      "68\n",
      "44.075996696 12.0636410304 1.17630394689 0.267436880791 56.5875097494 4.62175041765 1.40767198749 0.139837183431 50 13\n"
     ]
    }
   ],
   "source": [
    "allSTA = {'Station':[],\n",
    "         'RCphi':[],'RCdphi':[],\n",
    "         'RCdt':[],'RCddt':[],\n",
    "         'SCphi':[],'SCdphi':[],\n",
    "         'SCdt':[],'SCddt':[],\n",
    "         'SKSnonNull':[], 'SKSNull':[],\n",
    "         'SKKSnonNull':[], 'SKKSNull':[],\n",
    "         'nonNull':[],'Null':[]}\n",
    "\n",
    "\n",
    "for STApath in glob.glob(f'{PKLpath}/*.pkl'):\n",
    "    STApkl = pickle.load(open(STApath, \"rb\"))\n",
    "    values = [value for keys, value in STApkl.items() ][0]\n",
    "\n",
    "    NET = values['network']; STA = values['station']\n",
    "    if STA == 'CMCY' or STA == 'DGRL' or NET == 'BI' :\n",
    "        pass\n",
    "    else:\n",
    "        print(f'{NET}.{STA}')    \n",
    "        if not os.path.isdir(f'{SAVEpath}/{NET}.{STA}'):\n",
    "            os.mkdir(f'{SAVEpath}/{NET}.{STA}')\n",
    "        allSTA['Station'].append(f'{NET}.{STA}')\n",
    "        stlat = values['latitude']; stlon = values['longitude']\n",
    "\n",
    "        newdf = pd.DataFrame()\n",
    "        for csvpath in glob.glob(f'{Path}/*classify_220913/{NET}*{STA}*result_v2.csv'):\n",
    "            phase = csvpath.rsplit('_')[4]\n",
    "            df = pd.read_csv(csvpath)\n",
    "            df = df[df['Pick']==True]\n",
    "            newdf = newdf.append(df)\n",
    "            if phase == 'SKS':\n",
    "                if len(df) !=0:\n",
    "                    allSTA['SKSnonNull'].append(len( df[df['Null']==False][df['Quality']!='Poor'] ))\n",
    "                    allSTA['SKSNull'].append(len( df[df['Null']==True] ))\n",
    "                else:\n",
    "                    allSTA['SKSnonNull'].append(0)\n",
    "                    allSTA['SKSNull'].append(0)  \n",
    "            elif phase == 'SKKS':\n",
    "                if len(df) !=0:\n",
    "                    allSTA['SKKSnonNull'].append(len( df[df['Null']==False][df['Quality']!='Poor'] ))\n",
    "                    allSTA['SKKSNull'].append(len( df[df['Null']==True] ))            \n",
    "                else:\n",
    "                    allSTA['SKKSnonNull'].append(0)\n",
    "                    allSTA['SKKSNull'].append(0)             \n",
    "\n",
    "\n",
    "        print(len(newdf))\n",
    "        meanphiRC, stdphiRC, meandtRC, stddtRC, meanphiSC, stdphiSC, meandtSC, stddtSC, noNull, noNonNull = plot_nonnull_average(NET, STA, newdf, stlat, stlon, SAVEpath, YearRange, ver)\n",
    "        print(meanphiRC, stdphiRC, meandtRC, stddtRC, meanphiSC, stdphiSC, meandtSC, stddtSC, noNull, noNonNull)\n",
    "        if np.isnan(meanphiRC) == False:\n",
    "            allSTA['RCphi'].append(round(meanphiRC)); allSTA['RCdphi'].append(round(stdphiRC))\n",
    "            allSTA['RCdt'].append(float(round(meandtRC,2))); allSTA['RCddt'].append( float(round(stddtRC,2)))\n",
    "            allSTA['SCphi'].append(round(meanphiSC)); allSTA['SCdphi'].append(round(stdphiSC))\n",
    "            allSTA['SCdt'].append(float(round(meandtSC,2))); allSTA['SCddt'].append( float(round(stddtSC,2)))\n",
    "            allSTA['Null'].append(noNull); allSTA['nonNull'].append(noNonNull)\n",
    "        else: \n",
    "            allSTA['RCphi'].append(meanphiRC); allSTA['RCdphi'].append(stdphiRC)\n",
    "            allSTA['RCdt'].append(meandtRC); allSTA['RCddt'].append(stddtRC)\n",
    "            allSTA['SCphi'].append(meanphiSC); allSTA['SCdphi'].append(stdphiSC)\n",
    "            allSTA['SCdt'].append(meandtSC); allSTA['SCddt'].append(stddtSC)\n",
    "            allSTA['Null'].append(noNull); allSTA['nonNull'].append(noNonNull)\n",
    "\n",
    "#         plot_null_PCA09(NET, STA, newdf, stlat, stlon, SAVEpath, YearRange, meanphiSC, meandtSC, ver)\n",
    "    #     plot_null_PCA_angle_small(NET, STA, newdf, stlat, stlon, SAVEpath, YearRange, ver)\n",
    "    #     plot_null_PCA_angle_large(NET, STA, newdf, stlat, stlon, SAVEpath, YearRange, ver)  \n",
    "    #     plot_null_angle(NET, STA, newdf, stlat, stlon, SAVEpath, YearRange, ver)  \n",
    "    stadf = pd.DataFrame(allSTA)\n",
    "    stadf.to_csv(f'{SAVEpath}/Station_SKS_{YearRange}average_v6.csv',index=False)\n"
   ]
  },
  {
   "cell_type": "code",
   "execution_count": 25,
   "id": "fa342f98-b12e-4645-be41-7bda4ad743d5",
   "metadata": {},
   "outputs": [],
   "source": [
    "stadf = pd.DataFrame(allSTA)\n",
    "stadf.to_csv(f'{SAVEpath}/Station_SK(K)S_2010-2020average_v{ver}.csv',index=False)"
   ]
  },
  {
   "cell_type": "code",
   "execution_count": 27,
   "id": "d940959b-7820-4201-ad63-17b8eb4846af",
   "metadata": {},
   "outputs": [
    {
     "data": {
      "text/plain": [
       "'/Volumes/home/Research/STEP/05_Station_result_statistics'"
      ]
     },
     "execution_count": 27,
     "metadata": {},
     "output_type": "execute_result"
    }
   ],
   "source": [
    "SAVEpath"
   ]
  },
  {
   "cell_type": "code",
   "execution_count": 6,
   "id": "cf646a0c-04ba-41f9-b842-996faddc2288",
   "metadata": {},
   "outputs": [
    {
     "data": {
      "text/plain": [
       "1513"
      ]
     },
     "execution_count": 6,
     "metadata": {},
     "output_type": "execute_result"
    }
   ],
   "source": [
    "1326+187"
   ]
  },
  {
   "cell_type": "code",
   "execution_count": 28,
   "id": "89454c3b-6ac7-4b1b-b742-b139a21b226c",
   "metadata": {},
   "outputs": [
    {
     "data": {
      "text/plain": [
       "'/Volumes/home/Research/STEP/05_Station_result_statistics/Station_SKS_SKSvsSKKSaverage_v6.csv'"
      ]
     },
     "execution_count": 28,
     "metadata": {},
     "output_type": "execute_result"
    }
   ],
   "source": [
    "f'{SAVEpath}/Station_SKS_{YearRange}average_v6.csv'"
   ]
  },
  {
   "cell_type": "code",
   "execution_count": null,
   "id": "a202bfe0-be04-4d68-b9ce-2412b5008e9e",
   "metadata": {},
   "outputs": [],
   "source": []
  }
 ],
 "metadata": {
  "kernelspec": {
   "display_name": "Python 3 (ipykernel)",
   "language": "python",
   "name": "python3"
  },
  "language_info": {
   "codemirror_mode": {
    "name": "ipython",
    "version": 3
   },
   "file_extension": ".py",
   "mimetype": "text/x-python",
   "name": "python",
   "nbconvert_exporter": "python",
   "pygments_lexer": "ipython3",
   "version": "3.9.6"
  }
 },
 "nbformat": 4,
 "nbformat_minor": 5
}
