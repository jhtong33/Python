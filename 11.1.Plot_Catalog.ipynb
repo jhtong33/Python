{
 "cells": [
  {
   "cell_type": "code",
   "execution_count": 1,
   "id": "3c4113e4-c23c-47d5-92ad-fb3a9749e46d",
   "metadata": {},
   "outputs": [],
   "source": [
    "import numpy as np\n",
    "from stdb import load_db \n",
    "import matplotlib.pyplot as plt\n",
    "import pandas as pd\n",
    "import pickle\n",
    "import glob, os\n",
    "\n",
    "import warnings  \n",
    "from obspy.geodetics.base import gps2dist_azimuth\n",
    "from obspy.core.event.catalog import read_events\n",
    "warnings.filterwarnings(\"ignore\")  \n",
    "from  PlotCatalog_1 import plot_nonnull_average, plot_null_PCA09, plot_null_PCA_angle_small,plot_null_PCA_angle_large, plot_null_angle\n",
    "                \n"
   ]
  },
  {
   "cell_type": "code",
   "execution_count": 2,
   "id": "5e3e8737-032a-443b-a6a3-316adb18f5d2",
   "metadata": {},
   "outputs": [],
   "source": [
    "PKLpath = '/Volumes/home/Research/STEP/01_Split'\n",
    "Path = '/Volumes/home/Research/STEP/02_Station_result_csv'\n",
    "# MAG = 6\n",
    "\n",
    "SAVEpath = '/Volumes/home/Research/STEP/05_Station_result_statistics'\n",
    "YearRange= 'SKSvsSKKS'\n",
    "ver= 4"
   ]
  },
  {
   "cell_type": "code",
   "execution_count": 7,
   "id": "2187c1e8-1faf-4d79-8a57-c6d968a41d65",
   "metadata": {},
   "outputs": [],
   "source": [
    "iiii=0\n",
    "for STApath in glob.glob(f'{PKLpath}/*.pkl'):\n",
    "    STApkl = pickle.load(open(STApath, \"rb\"))\n",
    "    values = [value for keys, value in STApkl.items() ][0]\n",
    "\n",
    "    NET = values['network']; STA = values['station']\n",
    "    if STA == 'CMCY' or STA == 'DGRL' or NET == 'BI' :\n",
    "        pass\n",
    "    else:\n",
    "        newdf = pd.DataFrame()\n",
    "        for csvpath in glob.glob(f'{Path}/*classify/{NET}*{STA}*result.csv'):\n",
    "            phase = csvpath.rsplit('_')[4]\n",
    "            df = pd.read_csv(csvpath)\n",
    "            df = df[df['Pick']==True][df['Null']==False][df['Quality']!='Poor']\n",
    "            iiii += len(df)"
   ]
  },
  {
   "cell_type": "code",
   "execution_count": 3,
   "id": "2cd97c5a-23fc-4bd3-b1e8-1628bbe571bf",
   "metadata": {
    "tags": []
   },
   "outputs": [
    {
     "name": "stdout",
     "output_type": "stream",
     "text": [
      "IU.GNI\n",
      "140\n",
      "GNI 20130514_003226 not used\n",
      "GNI 20180828_223513 not used\n",
      "GNI 20200613_210830 not used\n",
      "GNI 20131123_074832 not used\n",
      "51.5916510289 8.6297729849 0.680094796554 0.189481199595 52.9096756682 7.72794520897 0.75922327436 0.178579464105 111 24\n"
     ]
    }
   ],
   "source": [
    "allSTA = {'Station':[],\n",
    "         'RCphi':[],'RCdphi':[],\n",
    "         'RCdt':[],'RCddt':[],\n",
    "         'SCphi':[],'SCdphi':[],\n",
    "         'SCdt':[],'SCddt':[],\n",
    "         'SKSnonNull':[], 'SKSNull':[],\n",
    "         'SKKSnonNull':[], 'SKKSNull':[],\n",
    "         'nonNull':[],'Null':[]}\n",
    "\n",
    "\n",
    "for STApath in glob.glob(f'{PKLpath}/*GNI.pkl'):\n",
    "    STApkl = pickle.load(open(STApath, \"rb\"))\n",
    "    values = [value for keys, value in STApkl.items() ][0]\n",
    "\n",
    "    NET = values['network']; STA = values['station']\n",
    "    if STA == 'CMCY' or STA == 'DGRL' :\n",
    "        pass\n",
    "    else:\n",
    "        print(f'{NET}.{STA}')    \n",
    "        if not os.path.isdir(f'{SAVEpath}/{NET}.{STA}'):\n",
    "            os.mkdir(f'{SAVEpath}/{NET}.{STA}')\n",
    "        allSTA['Station'].append(f'{NET}.{STA}')\n",
    "        stlat = values['latitude']; stlon = values['longitude']\n",
    "\n",
    "        newdf = pd.DataFrame()\n",
    "        for csvpath in glob.glob(f'{Path}/*classify/{NET}*{STA}*result.csv'):\n",
    "            phase = csvpath.rsplit('_')[4]\n",
    "            df = pd.read_csv(csvpath)\n",
    "            df = df[df['Pick']==True]\n",
    "            newdf = newdf.append(df)\n",
    "            if phase == 'SKS':\n",
    "                if len(df) !=0:\n",
    "                    allSTA['SKSnonNull'].append(len( df[df['Null']==False][df['Quality']!='Poor'] ))\n",
    "                    allSTA['SKSNull'].append(len( df[df['Null']==True] ))\n",
    "                else:\n",
    "                    allSTA['SKSnonNull'].append(0)\n",
    "                    allSTA['SKSNull'].append(0)  \n",
    "            elif phase == 'SKKS':\n",
    "                if len(df) !=0:\n",
    "                    allSTA['SKKSnonNull'].append(len( df[df['Null']==False][df['Quality']!='Poor'] ))\n",
    "                    allSTA['SKKSNull'].append(len( df[df['Null']==True] ))            \n",
    "                else:\n",
    "                    allSTA['SKKSnonNull'].append(0)\n",
    "                    allSTA['SKKSNull'].append(0)             \n",
    "\n",
    "\n",
    "        print(len(newdf))\n",
    "        meanphiRC, stdphiRC, meandtRC, stddtRC, meanphiSC, stdphiSC, meandtSC, stddtSC, noNull, noNonNull = plot_nonnull_average(NET, STA, newdf, stlat, stlon, SAVEpath, YearRange, ver)\n",
    "        print(meanphiRC, stdphiRC, meandtRC, stddtRC, meanphiSC, stdphiSC, meandtSC, stddtSC, noNull, noNonNull)\n",
    "        if np.isnan(meanphiRC) == False:\n",
    "            allSTA['RCphi'].append(round(meanphiRC)); allSTA['RCdphi'].append(round(stdphiRC))\n",
    "            allSTA['RCdt'].append(float(round(meandtRC,2))); allSTA['RCddt'].append( float(round(stddtRC,2)))\n",
    "            allSTA['SCphi'].append(round(meanphiSC)); allSTA['SCdphi'].append(round(stdphiSC))\n",
    "            allSTA['SCdt'].append(float(round(meandtSC,2))); allSTA['SCddt'].append( float(round(stddtSC,2)))\n",
    "            allSTA['Null'].append(noNull); allSTA['nonNull'].append(noNonNull)\n",
    "        else: \n",
    "            allSTA['RCphi'].append(meanphiRC); allSTA['RCdphi'].append(stdphiRC)\n",
    "            allSTA['RCdt'].append(meandtRC); allSTA['RCddt'].append(stddtRC)\n",
    "            allSTA['SCphi'].append(meanphiSC); allSTA['SCdphi'].append(stdphiSC)\n",
    "            allSTA['SCdt'].append(meandtSC); allSTA['SCddt'].append(stddtSC)\n",
    "            allSTA['Null'].append(noNull); allSTA['nonNull'].append(noNonNull)\n",
    "\n",
    "#         plot_null_PCA09(NET, STA, newdf, stlat, stlon, SAVEpath, YearRange, meanphiSC, meandtSC, ver)\n",
    "    #     plot_null_PCA_angle_small(NET, STA, newdf, stlat, stlon, SAVEpath, YearRange, ver)\n",
    "    #     plot_null_PCA_angle_large(NET, STA, newdf, stlat, stlon, SAVEpath, YearRange, ver)  \n",
    "    #     plot_null_angle(NET, STA, newdf, stlat, stlon, SAVEpath, YearRange, ver)  \n",
    "    # stadf = pd.DataFrame(allSTA)\n",
    "    # stadf.to_csv(f'{SAVEpath}/Station_SKS_{YearRange}average_v3.csv',index=False)\n"
   ]
  },
  {
   "cell_type": "code",
   "execution_count": 25,
   "id": "fa342f98-b12e-4645-be41-7bda4ad743d5",
   "metadata": {},
   "outputs": [],
   "source": [
    "stadf = pd.DataFrame(allSTA)\n",
    "stadf.to_csv(f'{SAVEpath}/Station_SK(K)S_2010-2020average_v{ver}.csv',index=False)"
   ]
  },
  {
   "cell_type": "code",
   "execution_count": 27,
   "id": "d940959b-7820-4201-ad63-17b8eb4846af",
   "metadata": {},
   "outputs": [
    {
     "data": {
      "text/plain": [
       "'/Volumes/home/Research/STEP/05_Station_result_statistics'"
      ]
     },
     "execution_count": 27,
     "metadata": {},
     "output_type": "execute_result"
    }
   ],
   "source": [
    "SAVEpath"
   ]
  },
  {
   "cell_type": "code",
   "execution_count": 6,
   "id": "cf646a0c-04ba-41f9-b842-996faddc2288",
   "metadata": {},
   "outputs": [
    {
     "data": {
      "text/plain": [
       "1513"
      ]
     },
     "execution_count": 6,
     "metadata": {},
     "output_type": "execute_result"
    }
   ],
   "source": [
    "1326+187"
   ]
  },
  {
   "cell_type": "code",
   "execution_count": null,
   "id": "89454c3b-6ac7-4b1b-b742-b139a21b226c",
   "metadata": {},
   "outputs": [],
   "source": []
  }
 ],
 "metadata": {
  "kernelspec": {
   "display_name": "Python 3 (ipykernel)",
   "language": "python",
   "name": "python3"
  },
  "language_info": {
   "codemirror_mode": {
    "name": "ipython",
    "version": 3
   },
   "file_extension": ".py",
   "mimetype": "text/x-python",
   "name": "python",
   "nbconvert_exporter": "python",
   "pygments_lexer": "ipython3",
   "version": "3.9.6"
  }
 },
 "nbformat": 4,
 "nbformat_minor": 5
}
